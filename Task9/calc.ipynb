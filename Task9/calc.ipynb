{
 "cells": [
  {
   "cell_type": "code",
   "execution_count": 8,
   "id": "a043562e",
   "metadata": {},
   "outputs": [
    {
     "name": "stdout",
     "output_type": "stream",
     "text": [
      "0.00510115134454403\n",
      "0.048090144001334136\n"
     ]
    }
   ],
   "source": [
    "PhiN = 0.1411\n",
    "PhiS = 0.1416\n",
    "m0_2 = 2.3925 * 10**(-4)\n",
    "lambda1 = -1.67\n",
    "lambda2 = 23.507\n",
    "c1 =  1.308\n",
    "\n",
    "hn = m0_2 * PhiN + lambda1 * (PhiN **2 + PhiS**2)*PhiN + lambda2 / 2 * PhiN**3 - c1 / 1.41 * PhiN * PhiS \n",
    "\n",
    "\n",
    "hS = m0_2 * PhiS + lambda1 * (PhiN **2 + PhiS**2)*PhiS + lambda2  * PhiS**3 - c1 / (2 * 1.41) * PhiN **2 \n",
    "print(hn)\n",
    "print(hS)"
   ]
  },
  {
   "cell_type": "code",
   "execution_count": null,
   "id": "ae5bfc95",
   "metadata": {},
   "outputs": [],
   "source": []
  }
 ],
 "metadata": {
  "kernelspec": {
   "display_name": "Python 3",
   "language": "python",
   "name": "python3"
  },
  "language_info": {
   "codemirror_mode": {
    "name": "ipython",
    "version": 3
   },
   "file_extension": ".py",
   "mimetype": "text/x-python",
   "name": "python",
   "nbconvert_exporter": "python",
   "pygments_lexer": "ipython3",
   "version": "3.12.1"
  }
 },
 "nbformat": 4,
 "nbformat_minor": 5
}
